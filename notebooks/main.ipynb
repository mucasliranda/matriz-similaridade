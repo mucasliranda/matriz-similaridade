{
 "cells": [
  {
   "cell_type": "code",
   "execution_count": 89,
   "metadata": {
    "tags": []
   },
   "outputs": [],
   "source": [
    "import pandas as pd\n",
    "\n",
    "clientes_df = pd.read_csv('../data/clientes.csv')\n",
    "\n",
    "# clientes_df = clientes_df.head(5000)\n",
    "\n",
    "# print(clientes_df.head())\n"
   ]
  },
  {
   "cell_type": "code",
   "execution_count": 90,
   "metadata": {
    "tags": []
   },
   "outputs": [],
   "source": [
    "from sklearn.feature_extraction.text import TfidfVectorizer\n",
    "from sklearn.metrics.pairwise import cosine_similarity\n",
    "\n",
    "textos = clientes_df['fantasia_cli'] + ' ' + clientes_df['razao_cli'] + ' ' + clientes_df['endereco_cli'] + ' ' + clientes_df['bairro_cli'] + ' ' + clientes_df['cidade_cli']\n",
    "\n",
    "vectorizer = TfidfVectorizer()\n",
    "tfidf_matrix = vectorizer.fit_transform(textos)\n",
    "\n",
    "similaridade_matrix = cosine_similarity(tfidf_matrix)\n",
    "\n",
    "limite_similaridade = 0.6\n",
    "\n",
    "limite_talvez = 0.4\n",
    "\n",
    "clientes_semelhantes = {}\n",
    "\n",
    "num_clientes = len(clientes_df)\n",
    "for i in range(num_clientes):\n",
    "    grupo = [(clientes_df.iloc[i], 1.0)]\n",
    "\n",
    "    for j in range(i+1, num_clientes):\n",
    "        # print(f\"Comparando {i} com {j} - similaridade: {similaridade_matrix[i, j]}\")\n",
    "        if similaridade_matrix[i, j] > limite_similaridade:\n",
    "            grupo.append((clientes_df.iloc[j], similaridade_matrix[i, j]))\n",
    "\n",
    "\n",
    "        # if similaridade_matrix[i, j] > limite_similaridade and clientes_df.iloc[i].bairro_cli == clientes_df.iloc[j].bairro_cli:\n",
    "        #     grupo.append((clientes_df.iloc[j], similaridade_matrix[i, j]))\n",
    "        # elif similaridade_matrix[i, j] > limite_similaridade:\n",
    "        #     print(f'Clientes semelhantes com bairro diferente:\\n{clientes_df.iloc[i]} e\\n{clientes_df.iloc[j]} - similaridade: {similaridade_matrix[i, j]}')\n",
    "        #     print('-' * 80)\n",
    "\n",
    "\n",
    "        # elif similaridade_matrix[i, j] > limite_talvez:\n",
    "        #     print(f\"Comparando {clientes_df.iloc[i].cod_cli} com {clientes_df.iloc[j].cod_cli} - similaridade: {similaridade_matrix[i, j]}\")\n",
    "        #     print(clientes_df.iloc[i])\n",
    "        #     print(clientes_df.iloc[j])\n",
    "        #     print('-' * 80)\n",
    "\n",
    "    if len(grupo) > 1:\n",
    "        clientes_semelhantes[clientes_df.iloc[i].cod_cli] = grupo\n",
    "\n",
    "# print('Grupos de clientes semelhantes encontrados:')\n",
    "# for id_grupo, clientes_grupo in clientes_semelhantes.items():\n",
    "#     print(f'Grupo {id_grupo}:')\n",
    "#     for cliente, similaridade in clientes_grupo:\n",
    "#         print(f'{cliente}, Similaridade: {similaridade}')\n",
    "#     print('-' * 80)"
   ]
  },
  {
   "cell_type": "code",
   "execution_count": 86,
   "metadata": {},
   "outputs": [],
   "source": [
    "import csv\n",
    "\n",
    "with open('../data/resultado.csv', 'w', newline='') as file:\n",
    "    writer = csv.writer(file)\n",
    "\n",
    "    for id_grupo, clientes_grupo in clientes_semelhantes.items():\n",
    "      for cliente, similaridade in clientes_grupo:\n",
    "        writer.writerow([id_grupo, cliente.cod_cli, similaridade])\n",
    "          # csv.append([id_grupo, cliente.cod_cli, similaridade])"
   ]
  },
  {
   "cell_type": "code",
   "execution_count": 67,
   "metadata": {},
   "outputs": [
    {
     "name": "stdout",
     "output_type": "stream",
     "text": [
      "[['0001-7982', '0001-7982', 1.0], ['0001-7982', '0001-9106', 0.6406778011448825], ['0002-2321', '0002-2321', 1.0], ['0002-2321', '0002-7966', 0.6721930506369285], ['0002-2321', '0003-5273', 0.6803850825260035], ['0002-6172', '0002-6172', 1.0], ['0002-6172', '0002-7365', 0.8884758381875494], ['0002-6464', '0002-6464', 1.0], ['0002-6464', '0003-2819', 0.7402289587050624], ['0002-6670', '0002-6670', 1.0], ['0002-6670', '0003-5557', 0.6318165355447256], ['0003-1372', '0003-1372', 1.0], ['0003-1372', '0003-5397', 0.646471963456546], ['0003-1850', '0003-1850', 1.0], ['0003-1850', '0003-4476', 0.7085521899096547], ['0003-3444', '0003-3444', 1.0], ['0003-3444', '0003-4342', 0.6336041442061178], ['0003-4633', '0003-4633', 1.0], ['0003-4633', '0003-4988', 0.6743503885798169]]\n"
     ]
    }
   ],
   "source": [
    "csv = []\n",
    "\n",
    "for id_grupo, clientes_grupo in clientes_semelhantes.items():\n",
    "    for cliente, similaridade in clientes_grupo:\n",
    "        csv.append([id_grupo, cliente.cod_cli, similaridade])\n",
    "\n",
    "print(csv)\n",
    "# print(clientes_semelhantes['0002-6172'][0][0])\n",
    "\n",
    "# print(clientes_semelhantes['0002-6172'][0][0])"
   ]
  }
 ],
 "metadata": {
  "kernelspec": {
   "display_name": "Python 3 (ipykernel)",
   "language": "python",
   "name": "python3"
  },
  "language_info": {
   "codemirror_mode": {
    "name": "ipython",
    "version": 3
   },
   "file_extension": ".py",
   "mimetype": "text/x-python",
   "name": "python",
   "nbconvert_exporter": "python",
   "pygments_lexer": "ipython3",
   "version": "3.11.3"
  }
 },
 "nbformat": 4,
 "nbformat_minor": 4
}
